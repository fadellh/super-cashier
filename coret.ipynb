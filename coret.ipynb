{
 "cells": [
  {
   "cell_type": "code",
   "execution_count": 2,
   "metadata": {},
   "outputs": [
    {
     "name": "stdout",
     "output_type": "stream",
     "text": [
      "------------------------------------------------------------\n",
      "SELAMAT DATANG DI PERPUSTAKAAN SEDERHANA PACMANN\n",
      "------------------------------------------------------------\n",
      "1. Pendaftaran Anggota Baru\n",
      "2. Pendaftaran Buku Baru\n",
      "3. Peminjaman Buku\n",
      "4. Tampilkan Daftar Anggota\n",
      "5. Tampilkan Daftar Buku\n",
      "6. Tampilkan Daftar Peminjaman\n",
      "7. Pengembalian Buku\n",
      "8. Pencarian Judul Buku\n",
      "9. Exit\n",
      "\n",
      "2\n"
     ]
    }
   ],
   "source": [
    "def menu():\n",
    "    \"\"\"Fungsi untuk menampilkan daftar tugas.\n",
    "    \"\"\"\n",
    "    print(\"-\"*60)\n",
    "    print(\"SELAMAT DATANG DI PERPUSTAKAAN SEDERHANA PACMANN\")\n",
    "    print(\"-\"*60)\n",
    "    print(\"1. Pendaftaran Anggota Baru\")\n",
    "    print(\"2. Pendaftaran Buku Baru\")\n",
    "    print(\"3. Peminjaman Buku\")\n",
    "    print(\"4. Tampilkan Daftar Anggota\")\n",
    "    print(\"5. Tampilkan Daftar Buku\")\n",
    "    print(\"6. Tampilkan Daftar Peminjaman\")\n",
    "    print(\"7. Pengembalian Buku\")\n",
    "    print(\"8. Pencarian Judul Buku\")\n",
    "    print(\"9. Exit\\n\")\n",
    "    \n",
    "    choice = int(input('Masukkan Nomor Tugas : '))\n",
    "    \n",
    "    print(choice)\n",
    "        \n",
    "menu()"
   ]
  }
 ],
 "metadata": {
  "kernelspec": {
   "display_name": "Python 3",
   "language": "python",
   "name": "python3"
  },
  "language_info": {
   "codemirror_mode": {
    "name": "ipython",
    "version": 3
   },
   "file_extension": ".py",
   "mimetype": "text/x-python",
   "name": "python",
   "nbconvert_exporter": "python",
   "pygments_lexer": "ipython3",
   "version": "3.8.10"
  },
  "orig_nbformat": 4
 },
 "nbformat": 4,
 "nbformat_minor": 2
}
